{
 "cells": [
  {
   "cell_type": "code",
   "execution_count": 2,
   "metadata": {},
   "outputs": [
    {
     "name": "stdout",
     "output_type": "stream",
     "text": [
      "Requirement already satisfied: darts in /Users/ryanjang123/opt/anaconda3/lib/python3.9/site-packages (0.23.1)\n",
      "Requirement already satisfied: pmdarima>=1.8.0 in /Users/ryanjang123/opt/anaconda3/lib/python3.9/site-packages (from darts) (2.0.2)\n",
      "Requirement already satisfied: numpy>=1.19.0 in /Users/ryanjang123/opt/anaconda3/lib/python3.9/site-packages (from darts) (1.21.6)\n",
      "Requirement already satisfied: pandas>=1.0.5 in /Users/ryanjang123/opt/anaconda3/lib/python3.9/site-packages (from darts) (1.4.2)\n",
      "Requirement already satisfied: holidays>=0.11.1 in /Users/ryanjang123/opt/anaconda3/lib/python3.9/site-packages (from darts) (0.17.2)\n",
      "Requirement already satisfied: scipy>=1.3.2 in /Users/ryanjang123/opt/anaconda3/lib/python3.9/site-packages (from darts) (1.7.3)\n",
      "Requirement already satisfied: joblib>=0.16.0 in /Users/ryanjang123/opt/anaconda3/lib/python3.9/site-packages (from darts) (1.1.0)\n",
      "Requirement already satisfied: prophet>=1.1.1 in /Users/ryanjang123/opt/anaconda3/lib/python3.9/site-packages (from darts) (1.1.1)\n",
      "Requirement already satisfied: torch>=1.8.0 in /Users/ryanjang123/opt/anaconda3/lib/python3.9/site-packages (from darts) (1.13.0)\n",
      "Requirement already satisfied: tqdm>=4.60.0 in /Users/ryanjang123/opt/anaconda3/lib/python3.9/site-packages (from darts) (4.64.0)\n",
      "Requirement already satisfied: matplotlib>=3.3.0 in /Users/ryanjang123/opt/anaconda3/lib/python3.9/site-packages (from darts) (3.5.1)\n",
      "Requirement already satisfied: nfoursid>=1.0.0 in /Users/ryanjang123/opt/anaconda3/lib/python3.9/site-packages (from darts) (1.0.1)\n",
      "Requirement already satisfied: pytorch-lightning>=1.5.0 in /Users/ryanjang123/opt/anaconda3/lib/python3.9/site-packages (from darts) (1.8.6)\n",
      "Requirement already satisfied: scikit-learn>=1.0.1 in /Users/ryanjang123/opt/anaconda3/lib/python3.9/site-packages (from darts) (1.0.2)\n",
      "Requirement already satisfied: xgboost>=1.6.0 in /Users/ryanjang123/opt/anaconda3/lib/python3.9/site-packages (from darts) (1.7.3)\n",
      "Requirement already satisfied: xarray>=0.17.0 in /Users/ryanjang123/opt/anaconda3/lib/python3.9/site-packages (from darts) (0.20.1)\n",
      "Requirement already satisfied: pyod>=0.9.5 in /Users/ryanjang123/opt/anaconda3/lib/python3.9/site-packages (from darts) (1.0.7)\n",
      "Requirement already satisfied: tbats>=1.1.0 in /Users/ryanjang123/opt/anaconda3/lib/python3.9/site-packages (from darts) (1.1.2)\n",
      "Requirement already satisfied: lightgbm>=3.2.0 in /Users/ryanjang123/opt/anaconda3/lib/python3.9/site-packages (from darts) (3.3.4)\n",
      "Requirement already satisfied: requests>=2.22.0 in /Users/ryanjang123/opt/anaconda3/lib/python3.9/site-packages (from darts) (2.27.1)\n",
      "Requirement already satisfied: shap>=0.40.0 in /Users/ryanjang123/opt/anaconda3/lib/python3.9/site-packages (from darts) (0.41.0)\n",
      "Requirement already satisfied: statsforecast>=1.0.0 in /Users/ryanjang123/opt/anaconda3/lib/python3.9/site-packages (from darts) (1.4.0)\n",
      "Requirement already satisfied: statsmodels>=0.13.0 in /Users/ryanjang123/opt/anaconda3/lib/python3.9/site-packages (from darts) (0.13.2)\n",
      "Requirement already satisfied: catboost>=1.0.6 in /Users/ryanjang123/opt/anaconda3/lib/python3.9/site-packages (from darts) (1.1.1)\n",
      "Requirement already satisfied: plotly in /Users/ryanjang123/opt/anaconda3/lib/python3.9/site-packages (from catboost>=1.0.6->darts) (5.6.0)\n",
      "Requirement already satisfied: graphviz in /Users/ryanjang123/opt/anaconda3/lib/python3.9/site-packages (from catboost>=1.0.6->darts) (0.20)\n",
      "Requirement already satisfied: six in /Users/ryanjang123/opt/anaconda3/lib/python3.9/site-packages (from catboost>=1.0.6->darts) (1.16.0)\n",
      "Requirement already satisfied: python-dateutil in /Users/ryanjang123/opt/anaconda3/lib/python3.9/site-packages (from holidays>=0.11.1->darts) (2.8.2)\n",
      "Requirement already satisfied: hijri-converter in /Users/ryanjang123/opt/anaconda3/lib/python3.9/site-packages (from holidays>=0.11.1->darts) (2.2.4)\n",
      "Requirement already satisfied: convertdate>=2.3.0 in /Users/ryanjang123/opt/anaconda3/lib/python3.9/site-packages (from holidays>=0.11.1->darts) (2.4.0)\n",
      "Requirement already satisfied: korean-lunar-calendar in /Users/ryanjang123/opt/anaconda3/lib/python3.9/site-packages (from holidays>=0.11.1->darts) (0.3.1)\n",
      "Requirement already satisfied: wheel in /Users/ryanjang123/opt/anaconda3/lib/python3.9/site-packages (from lightgbm>=3.2.0->darts) (0.37.1)\n",
      "Requirement already satisfied: pyparsing>=2.2.1 in /Users/ryanjang123/opt/anaconda3/lib/python3.9/site-packages (from matplotlib>=3.3.0->darts) (3.0.4)\n",
      "Requirement already satisfied: fonttools>=4.22.0 in /Users/ryanjang123/opt/anaconda3/lib/python3.9/site-packages (from matplotlib>=3.3.0->darts) (4.25.0)\n",
      "Requirement already satisfied: cycler>=0.10 in /Users/ryanjang123/opt/anaconda3/lib/python3.9/site-packages (from matplotlib>=3.3.0->darts) (0.11.0)\n",
      "Requirement already satisfied: kiwisolver>=1.0.1 in /Users/ryanjang123/opt/anaconda3/lib/python3.9/site-packages (from matplotlib>=3.3.0->darts) (1.4.2)\n",
      "Requirement already satisfied: packaging>=20.0 in /Users/ryanjang123/opt/anaconda3/lib/python3.9/site-packages (from matplotlib>=3.3.0->darts) (21.3)\n",
      "Requirement already satisfied: pillow>=6.2.0 in /Users/ryanjang123/opt/anaconda3/lib/python3.9/site-packages (from matplotlib>=3.3.0->darts) (9.0.1)\n",
      "Requirement already satisfied: pytz>=2020.1 in /Users/ryanjang123/opt/anaconda3/lib/python3.9/site-packages (from pandas>=1.0.5->darts) (2022.1)\n",
      "Requirement already satisfied: Cython!=0.29.18,!=0.29.31,>=0.29 in /Users/ryanjang123/opt/anaconda3/lib/python3.9/site-packages (from pmdarima>=1.8.0->darts) (0.29.28)\n",
      "Requirement already satisfied: urllib3 in /Users/ryanjang123/opt/anaconda3/lib/python3.9/site-packages (from pmdarima>=1.8.0->darts) (1.26.9)\n",
      "Requirement already satisfied: setuptools!=50.0.0,>=38.6.0 in /Users/ryanjang123/opt/anaconda3/lib/python3.9/site-packages (from pmdarima>=1.8.0->darts) (62.3.2)\n",
      "Requirement already satisfied: cmdstanpy>=1.0.4 in /Users/ryanjang123/opt/anaconda3/lib/python3.9/site-packages (from prophet>=1.1.1->darts) (1.0.8)\n",
      "Requirement already satisfied: setuptools-git>=1.2 in /Users/ryanjang123/opt/anaconda3/lib/python3.9/site-packages (from prophet>=1.1.1->darts) (1.2)\n",
      "Requirement already satisfied: LunarCalendar>=0.0.9 in /Users/ryanjang123/opt/anaconda3/lib/python3.9/site-packages (from prophet>=1.1.1->darts) (0.0.9)\n",
      "Requirement already satisfied: numba>=0.51 in /Users/ryanjang123/opt/anaconda3/lib/python3.9/site-packages (from pyod>=0.9.5->darts) (0.55.1)\n",
      "Requirement already satisfied: tensorboardX>=2.2 in /Users/ryanjang123/opt/anaconda3/lib/python3.9/site-packages (from pytorch-lightning>=1.5.0->darts) (2.5.1)\n",
      "Requirement already satisfied: lightning-utilities!=0.4.0,>=0.3.0 in /Users/ryanjang123/opt/anaconda3/lib/python3.9/site-packages (from pytorch-lightning>=1.5.0->darts) (0.5.0)\n",
      "Requirement already satisfied: PyYAML>=5.4 in /Users/ryanjang123/opt/anaconda3/lib/python3.9/site-packages (from pytorch-lightning>=1.5.0->darts) (6.0)\n",
      "Requirement already satisfied: typing-extensions>=4.0.0 in /Users/ryanjang123/opt/anaconda3/lib/python3.9/site-packages (from pytorch-lightning>=1.5.0->darts) (4.1.1)\n",
      "Requirement already satisfied: fsspec[http]>2021.06.0 in /Users/ryanjang123/opt/anaconda3/lib/python3.9/site-packages (from pytorch-lightning>=1.5.0->darts) (2022.3.0)\n",
      "Requirement already satisfied: torchmetrics>=0.7.0 in /Users/ryanjang123/opt/anaconda3/lib/python3.9/site-packages (from pytorch-lightning>=1.5.0->darts) (0.11.0)\n",
      "Requirement already satisfied: certifi>=2017.4.17 in /Users/ryanjang123/opt/anaconda3/lib/python3.9/site-packages (from requests>=2.22.0->darts) (2022.9.24)\n",
      "Requirement already satisfied: charset-normalizer~=2.0.0 in /Users/ryanjang123/opt/anaconda3/lib/python3.9/site-packages (from requests>=2.22.0->darts) (2.0.4)\n",
      "Requirement already satisfied: idna<4,>=2.5 in /Users/ryanjang123/opt/anaconda3/lib/python3.9/site-packages (from requests>=2.22.0->darts) (3.3)\n",
      "Requirement already satisfied: threadpoolctl>=2.0.0 in /Users/ryanjang123/opt/anaconda3/lib/python3.9/site-packages (from scikit-learn>=1.0.1->darts) (2.2.0)\n",
      "Requirement already satisfied: cloudpickle in /Users/ryanjang123/opt/anaconda3/lib/python3.9/site-packages (from shap>=0.40.0->darts) (2.0.0)\n",
      "Requirement already satisfied: slicer==0.0.7 in /Users/ryanjang123/opt/anaconda3/lib/python3.9/site-packages (from shap>=0.40.0->darts) (0.0.7)\n",
      "Requirement already satisfied: patsy>=0.5.2 in /Users/ryanjang123/opt/anaconda3/lib/python3.9/site-packages (from statsmodels>=0.13.0->darts) (0.5.2)\n"
     ]
    },
    {
     "name": "stdout",
     "output_type": "stream",
     "text": [
      "Requirement already satisfied: pymeeus<=1,>=0.3.13 in /Users/ryanjang123/opt/anaconda3/lib/python3.9/site-packages (from convertdate>=2.3.0->holidays>=0.11.1->darts) (0.5.11)\n",
      "Requirement already satisfied: aiohttp in /Users/ryanjang123/opt/anaconda3/lib/python3.9/site-packages (from fsspec[http]>2021.06.0->pytorch-lightning>=1.5.0->darts) (3.8.1)\n",
      "Requirement already satisfied: ephem>=3.7.5.3 in /Users/ryanjang123/opt/anaconda3/lib/python3.9/site-packages (from LunarCalendar>=0.0.9->prophet>=1.1.1->darts) (4.1.3)\n",
      "Requirement already satisfied: llvmlite<0.39,>=0.38.0rc1 in /Users/ryanjang123/opt/anaconda3/lib/python3.9/site-packages (from numba>=0.51->pyod>=0.9.5->darts) (0.38.0)\n",
      "Requirement already satisfied: protobuf<=3.20.1,>=3.8.0 in /Users/ryanjang123/opt/anaconda3/lib/python3.9/site-packages (from tensorboardX>=2.2->pytorch-lightning>=1.5.0->darts) (3.20.1)\n",
      "Requirement already satisfied: tenacity>=6.2.0 in /Users/ryanjang123/opt/anaconda3/lib/python3.9/site-packages (from plotly->catboost>=1.0.6->darts) (8.0.1)\n",
      "Requirement already satisfied: attrs>=17.3.0 in /Users/ryanjang123/opt/anaconda3/lib/python3.9/site-packages (from aiohttp->fsspec[http]>2021.06.0->pytorch-lightning>=1.5.0->darts) (21.4.0)\n",
      "Requirement already satisfied: multidict<7.0,>=4.5 in /Users/ryanjang123/opt/anaconda3/lib/python3.9/site-packages (from aiohttp->fsspec[http]>2021.06.0->pytorch-lightning>=1.5.0->darts) (5.2.0)\n",
      "Requirement already satisfied: yarl<2.0,>=1.0 in /Users/ryanjang123/opt/anaconda3/lib/python3.9/site-packages (from aiohttp->fsspec[http]>2021.06.0->pytorch-lightning>=1.5.0->darts) (1.6.3)\n",
      "Requirement already satisfied: async-timeout<5.0,>=4.0.0a3 in /Users/ryanjang123/opt/anaconda3/lib/python3.9/site-packages (from aiohttp->fsspec[http]>2021.06.0->pytorch-lightning>=1.5.0->darts) (4.0.1)\n",
      "Requirement already satisfied: frozenlist>=1.1.1 in /Users/ryanjang123/opt/anaconda3/lib/python3.9/site-packages (from aiohttp->fsspec[http]>2021.06.0->pytorch-lightning>=1.5.0->darts) (1.2.0)\n",
      "Requirement already satisfied: aiosignal>=1.1.2 in /Users/ryanjang123/opt/anaconda3/lib/python3.9/site-packages (from aiohttp->fsspec[http]>2021.06.0->pytorch-lightning>=1.5.0->darts) (1.2.0)\n"
     ]
    }
   ],
   "source": [
    "# ! pip install missingno\n",
    "! pip install darts\n",
    "# ! pip install utils"
   ]
  },
  {
   "cell_type": "code",
   "execution_count": 4,
   "metadata": {},
   "outputs": [
    {
     "ename": "OSError",
     "evalue": "dlopen(/Users/ryanjang123/opt/anaconda3/lib/python3.9/site-packages/lightgbm/lib_lightgbm.so, 0x0006): Library not loaded: /usr/local/opt/libomp/lib/libomp.dylib\n  Referenced from: /Users/ryanjang123/opt/anaconda3/lib/python3.9/site-packages/lightgbm/lib_lightgbm.so\n  Reason: tried: '/usr/local/opt/libomp/lib/libomp.dylib' (no such file), '/usr/local/lib/libomp.dylib' (no such file), '/usr/lib/libomp.dylib' (no such file)",
     "output_type": "error",
     "traceback": [
      "\u001b[0;31m---------------------------------------------------------------------------\u001b[0m",
      "\u001b[0;31mOSError\u001b[0m                                   Traceback (most recent call last)",
      "Input \u001b[0;32mIn [4]\u001b[0m, in \u001b[0;36m<cell line: 18>\u001b[0;34m()\u001b[0m\n\u001b[1;32m     16\u001b[0m \u001b[38;5;28;01mfrom\u001b[39;00m \u001b[38;5;21;01mdarts\u001b[39;00m \u001b[38;5;28;01mimport\u001b[39;00m TimeSeries, concatenate\n\u001b[1;32m     17\u001b[0m \u001b[38;5;28;01mfrom\u001b[39;00m \u001b[38;5;21;01mdarts\u001b[39;00m\u001b[38;5;21;01m.\u001b[39;00m\u001b[38;5;21;01mdataprocessing\u001b[39;00m\u001b[38;5;21;01m.\u001b[39;00m\u001b[38;5;21;01mtransformers\u001b[39;00m \u001b[38;5;28;01mimport\u001b[39;00m Scaler\n\u001b[0;32m---> 18\u001b[0m \u001b[38;5;28;01mfrom\u001b[39;00m \u001b[38;5;21;01mdarts\u001b[39;00m\u001b[38;5;21;01m.\u001b[39;00m\u001b[38;5;21;01mmodels\u001b[39;00m \u001b[38;5;28;01mimport\u001b[39;00m KalmanForecaster\n\u001b[1;32m     19\u001b[0m \u001b[38;5;28;01mfrom\u001b[39;00m \u001b[38;5;21;01mdarts\u001b[39;00m\u001b[38;5;21;01m.\u001b[39;00m\u001b[38;5;21;01mmetrics\u001b[39;00m \u001b[38;5;28;01mimport\u001b[39;00m mape, rmse\n\u001b[1;32m     20\u001b[0m \u001b[38;5;28;01mfrom\u001b[39;00m \u001b[38;5;21;01mdarts\u001b[39;00m\u001b[38;5;21;01m.\u001b[39;00m\u001b[38;5;21;01mutils\u001b[39;00m\u001b[38;5;21;01m.\u001b[39;00m\u001b[38;5;21;01mtimeseries_generation\u001b[39;00m \u001b[38;5;28;01mimport\u001b[39;00m datetime_attribute_timeseries\n",
      "File \u001b[0;32m~/opt/anaconda3/lib/python3.9/site-packages/darts/models/__init__.py:45\u001b[0m, in \u001b[0;36m<module>\u001b[0;34m\u001b[0m\n\u001b[1;32m     38\u001b[0m     logger\u001b[38;5;241m.\u001b[39mwarning(\n\u001b[1;32m     39\u001b[0m         \u001b[38;5;124m\"\u001b[39m\u001b[38;5;124mSupport for Torch based models not available. \u001b[39m\u001b[38;5;124m\"\u001b[39m\n\u001b[1;32m     40\u001b[0m         \u001b[38;5;124m'\u001b[39m\u001b[38;5;124mTo enable them, install \u001b[39m\u001b[38;5;124m\"\u001b[39m\u001b[38;5;124mdarts\u001b[39m\u001b[38;5;124m\"\u001b[39m\u001b[38;5;124m, \u001b[39m\u001b[38;5;124m\"\u001b[39m\u001b[38;5;124mu8darts[torch]\u001b[39m\u001b[38;5;124m\"\u001b[39m\u001b[38;5;124m or \u001b[39m\u001b[38;5;124m\"\u001b[39m\u001b[38;5;124mu8darts[all]\u001b[39m\u001b[38;5;124m\"\u001b[39m\u001b[38;5;124m (with pip); \u001b[39m\u001b[38;5;124m'\u001b[39m\n\u001b[1;32m     41\u001b[0m         \u001b[38;5;124m'\u001b[39m\u001b[38;5;124mor \u001b[39m\u001b[38;5;124m\"\u001b[39m\u001b[38;5;124mu8darts-torch\u001b[39m\u001b[38;5;124m\"\u001b[39m\u001b[38;5;124m or \u001b[39m\u001b[38;5;124m\"\u001b[39m\u001b[38;5;124mu8darts-all\u001b[39m\u001b[38;5;124m\"\u001b[39m\u001b[38;5;124m (with conda).\u001b[39m\u001b[38;5;124m'\u001b[39m\n\u001b[1;32m     42\u001b[0m     )\n\u001b[1;32m     44\u001b[0m \u001b[38;5;28;01mtry\u001b[39;00m:\n\u001b[0;32m---> 45\u001b[0m     \u001b[38;5;28;01mfrom\u001b[39;00m \u001b[38;5;21;01mdarts\u001b[39;00m\u001b[38;5;21;01m.\u001b[39;00m\u001b[38;5;21;01mmodels\u001b[39;00m\u001b[38;5;21;01m.\u001b[39;00m\u001b[38;5;21;01mforecasting\u001b[39;00m\u001b[38;5;21;01m.\u001b[39;00m\u001b[38;5;21;01mlgbm\u001b[39;00m \u001b[38;5;28;01mimport\u001b[39;00m LightGBMModel\n\u001b[1;32m     46\u001b[0m \u001b[38;5;28;01mexcept\u001b[39;00m \u001b[38;5;167;01mModuleNotFoundError\u001b[39;00m:\n\u001b[1;32m     47\u001b[0m     logger\u001b[38;5;241m.\u001b[39mwarning(\n\u001b[1;32m     48\u001b[0m         \u001b[38;5;124m\"\u001b[39m\u001b[38;5;124mSupport for LightGBM not available. \u001b[39m\u001b[38;5;124m\"\u001b[39m\n\u001b[1;32m     49\u001b[0m         \u001b[38;5;124m\"\u001b[39m\u001b[38;5;124mTo enable LightGBM support in Darts, follow the detailed \u001b[39m\u001b[38;5;124m\"\u001b[39m\n\u001b[1;32m     50\u001b[0m         \u001b[38;5;124m\"\u001b[39m\u001b[38;5;124minstall instructions for LightGBM in the README: \u001b[39m\u001b[38;5;124m\"\u001b[39m\n\u001b[1;32m     51\u001b[0m         \u001b[38;5;124m\"\u001b[39m\u001b[38;5;124mhttps://github.com/unit8co/darts/blob/master/INSTALL.md\u001b[39m\u001b[38;5;124m\"\u001b[39m\n\u001b[1;32m     52\u001b[0m     )\n",
      "File \u001b[0;32m~/opt/anaconda3/lib/python3.9/site-packages/darts/models/forecasting/lgbm.py:15\u001b[0m, in \u001b[0;36m<module>\u001b[0;34m\u001b[0m\n\u001b[1;32m      1\u001b[0m \u001b[38;5;124;03m\"\"\"\u001b[39;00m\n\u001b[1;32m      2\u001b[0m \u001b[38;5;124;03mLightGBM Model\u001b[39;00m\n\u001b[1;32m      3\u001b[0m \u001b[38;5;124;03m--------------\u001b[39;00m\n\u001b[0;32m   (...)\u001b[0m\n\u001b[1;32m     10\u001b[0m \u001b[38;5;124;03mhttps://github.com/unit8co/darts/blob/master/INSTALL.md\u001b[39;00m\n\u001b[1;32m     11\u001b[0m \u001b[38;5;124;03m\"\"\"\u001b[39;00m\n\u001b[1;32m     13\u001b[0m \u001b[38;5;28;01mfrom\u001b[39;00m \u001b[38;5;21;01mtyping\u001b[39;00m \u001b[38;5;28;01mimport\u001b[39;00m List, Optional, Sequence, Tuple, Union\n\u001b[0;32m---> 15\u001b[0m \u001b[38;5;28;01mimport\u001b[39;00m \u001b[38;5;21;01mlightgbm\u001b[39;00m \u001b[38;5;28;01mas\u001b[39;00m \u001b[38;5;21;01mlgb\u001b[39;00m\n\u001b[1;32m     16\u001b[0m \u001b[38;5;28;01mimport\u001b[39;00m \u001b[38;5;21;01mnumpy\u001b[39;00m \u001b[38;5;28;01mas\u001b[39;00m \u001b[38;5;21;01mnp\u001b[39;00m\n\u001b[1;32m     18\u001b[0m \u001b[38;5;28;01mfrom\u001b[39;00m \u001b[38;5;21;01mdarts\u001b[39;00m\u001b[38;5;21;01m.\u001b[39;00m\u001b[38;5;21;01mlogging\u001b[39;00m \u001b[38;5;28;01mimport\u001b[39;00m get_logger\n",
      "File \u001b[0;32m~/opt/anaconda3/lib/python3.9/site-packages/lightgbm/__init__.py:8\u001b[0m, in \u001b[0;36m<module>\u001b[0;34m\u001b[0m\n\u001b[1;32m      2\u001b[0m \u001b[38;5;124;03m\"\"\"LightGBM, Light Gradient Boosting Machine.\u001b[39;00m\n\u001b[1;32m      3\u001b[0m \n\u001b[1;32m      4\u001b[0m \u001b[38;5;124;03mContributors: https://github.com/microsoft/LightGBM/graphs/contributors.\u001b[39;00m\n\u001b[1;32m      5\u001b[0m \u001b[38;5;124;03m\"\"\"\u001b[39;00m\n\u001b[1;32m      6\u001b[0m \u001b[38;5;28;01mfrom\u001b[39;00m \u001b[38;5;21;01mpathlib\u001b[39;00m \u001b[38;5;28;01mimport\u001b[39;00m Path\n\u001b[0;32m----> 8\u001b[0m \u001b[38;5;28;01mfrom\u001b[39;00m \u001b[38;5;21;01m.\u001b[39;00m\u001b[38;5;21;01mbasic\u001b[39;00m \u001b[38;5;28;01mimport\u001b[39;00m Booster, Dataset, Sequence, register_logger\n\u001b[1;32m      9\u001b[0m \u001b[38;5;28;01mfrom\u001b[39;00m \u001b[38;5;21;01m.\u001b[39;00m\u001b[38;5;21;01mcallback\u001b[39;00m \u001b[38;5;28;01mimport\u001b[39;00m early_stopping, log_evaluation, print_evaluation, record_evaluation, reset_parameter\n\u001b[1;32m     10\u001b[0m \u001b[38;5;28;01mfrom\u001b[39;00m \u001b[38;5;21;01m.\u001b[39;00m\u001b[38;5;21;01mengine\u001b[39;00m \u001b[38;5;28;01mimport\u001b[39;00m CVBooster, cv, train\n",
      "File \u001b[0;32m~/opt/anaconda3/lib/python3.9/site-packages/lightgbm/basic.py:110\u001b[0m, in \u001b[0;36m<module>\u001b[0;34m\u001b[0m\n\u001b[1;32m    106\u001b[0m         \u001b[38;5;28;01mraise\u001b[39;00m LightGBMError(lib\u001b[38;5;241m.\u001b[39mLGBM_GetLastError()\u001b[38;5;241m.\u001b[39mdecode(\u001b[38;5;124m'\u001b[39m\u001b[38;5;124mutf-8\u001b[39m\u001b[38;5;124m'\u001b[39m))\n\u001b[1;32m    107\u001b[0m     \u001b[38;5;28;01mreturn\u001b[39;00m lib\n\u001b[0;32m--> 110\u001b[0m _LIB \u001b[38;5;241m=\u001b[39m \u001b[43m_load_lib\u001b[49m\u001b[43m(\u001b[49m\u001b[43m)\u001b[49m\n\u001b[1;32m    113\u001b[0m NUMERIC_TYPES \u001b[38;5;241m=\u001b[39m (\u001b[38;5;28mint\u001b[39m, \u001b[38;5;28mfloat\u001b[39m, \u001b[38;5;28mbool\u001b[39m)\n\u001b[1;32m    116\u001b[0m \u001b[38;5;28;01mdef\u001b[39;00m \u001b[38;5;21m_safe_call\u001b[39m(ret: \u001b[38;5;28mint\u001b[39m) \u001b[38;5;241m-\u001b[39m\u001b[38;5;241m>\u001b[39m \u001b[38;5;28;01mNone\u001b[39;00m:\n",
      "File \u001b[0;32m~/opt/anaconda3/lib/python3.9/site-packages/lightgbm/basic.py:101\u001b[0m, in \u001b[0;36m_load_lib\u001b[0;34m()\u001b[0m\n\u001b[1;32m     99\u001b[0m \u001b[38;5;28;01mif\u001b[39;00m \u001b[38;5;28mlen\u001b[39m(lib_path) \u001b[38;5;241m==\u001b[39m \u001b[38;5;241m0\u001b[39m:\n\u001b[1;32m    100\u001b[0m     \u001b[38;5;28;01mreturn\u001b[39;00m \u001b[38;5;28;01mNone\u001b[39;00m\n\u001b[0;32m--> 101\u001b[0m lib \u001b[38;5;241m=\u001b[39m \u001b[43mctypes\u001b[49m\u001b[38;5;241;43m.\u001b[39;49m\u001b[43mcdll\u001b[49m\u001b[38;5;241;43m.\u001b[39;49m\u001b[43mLoadLibrary\u001b[49m\u001b[43m(\u001b[49m\u001b[43mlib_path\u001b[49m\u001b[43m[\u001b[49m\u001b[38;5;241;43m0\u001b[39;49m\u001b[43m]\u001b[49m\u001b[43m)\u001b[49m\n\u001b[1;32m    102\u001b[0m lib\u001b[38;5;241m.\u001b[39mLGBM_GetLastError\u001b[38;5;241m.\u001b[39mrestype \u001b[38;5;241m=\u001b[39m ctypes\u001b[38;5;241m.\u001b[39mc_char_p\n\u001b[1;32m    103\u001b[0m callback \u001b[38;5;241m=\u001b[39m ctypes\u001b[38;5;241m.\u001b[39mCFUNCTYPE(\u001b[38;5;28;01mNone\u001b[39;00m, ctypes\u001b[38;5;241m.\u001b[39mc_char_p)\n",
      "File \u001b[0;32m~/opt/anaconda3/lib/python3.9/ctypes/__init__.py:460\u001b[0m, in \u001b[0;36mLibraryLoader.LoadLibrary\u001b[0;34m(self, name)\u001b[0m\n\u001b[1;32m    459\u001b[0m \u001b[38;5;28;01mdef\u001b[39;00m \u001b[38;5;21mLoadLibrary\u001b[39m(\u001b[38;5;28mself\u001b[39m, name):\n\u001b[0;32m--> 460\u001b[0m     \u001b[38;5;28;01mreturn\u001b[39;00m \u001b[38;5;28;43mself\u001b[39;49m\u001b[38;5;241;43m.\u001b[39;49m\u001b[43m_dlltype\u001b[49m\u001b[43m(\u001b[49m\u001b[43mname\u001b[49m\u001b[43m)\u001b[49m\n",
      "File \u001b[0;32m~/opt/anaconda3/lib/python3.9/ctypes/__init__.py:382\u001b[0m, in \u001b[0;36mCDLL.__init__\u001b[0;34m(self, name, mode, handle, use_errno, use_last_error, winmode)\u001b[0m\n\u001b[1;32m    379\u001b[0m \u001b[38;5;28mself\u001b[39m\u001b[38;5;241m.\u001b[39m_FuncPtr \u001b[38;5;241m=\u001b[39m _FuncPtr\n\u001b[1;32m    381\u001b[0m \u001b[38;5;28;01mif\u001b[39;00m handle \u001b[38;5;129;01mis\u001b[39;00m \u001b[38;5;28;01mNone\u001b[39;00m:\n\u001b[0;32m--> 382\u001b[0m     \u001b[38;5;28mself\u001b[39m\u001b[38;5;241m.\u001b[39m_handle \u001b[38;5;241m=\u001b[39m \u001b[43m_dlopen\u001b[49m\u001b[43m(\u001b[49m\u001b[38;5;28;43mself\u001b[39;49m\u001b[38;5;241;43m.\u001b[39;49m\u001b[43m_name\u001b[49m\u001b[43m,\u001b[49m\u001b[43m \u001b[49m\u001b[43mmode\u001b[49m\u001b[43m)\u001b[49m\n\u001b[1;32m    383\u001b[0m \u001b[38;5;28;01melse\u001b[39;00m:\n\u001b[1;32m    384\u001b[0m     \u001b[38;5;28mself\u001b[39m\u001b[38;5;241m.\u001b[39m_handle \u001b[38;5;241m=\u001b[39m handle\n",
      "\u001b[0;31mOSError\u001b[0m: dlopen(/Users/ryanjang123/opt/anaconda3/lib/python3.9/site-packages/lightgbm/lib_lightgbm.so, 0x0006): Library not loaded: /usr/local/opt/libomp/lib/libomp.dylib\n  Referenced from: /Users/ryanjang123/opt/anaconda3/lib/python3.9/site-packages/lightgbm/lib_lightgbm.so\n  Reason: tried: '/usr/local/opt/libomp/lib/libomp.dylib' (no such file), '/usr/local/lib/libomp.dylib' (no such file), '/usr/lib/libomp.dylib' (no such file)"
     ]
    }
   ],
   "source": [
    "%matplotlib inline\n",
    "import numpy as np\n",
    "import pandas as pd\n",
    "import matplotlib.pyplot as plt\n",
    "import seaborn as sns\n",
    "import os\n",
    "import sys\n",
    "import missingno as mno\n",
    "\n",
    "import warnings\n",
    "warnings.filterwarnings(\"ignore\")\n",
    "import logging\n",
    "logging.disable(logging.CRITICAL)\n",
    "\n",
    "\n",
    "from darts import TimeSeries, concatenate\n",
    "from darts.dataprocessing.transformers import Scaler\n",
    "from darts.models import KalmanForecaster\n",
    "from darts.metrics import mape, rmse\n",
    "from darts.utils.timeseries_generation import datetime_attribute_timeseries\n",
    "from darts.utils.likelihood_models import QuantileRegression\n",
    "\n",
    "\n",
    "pd.set_option(\"display.precision\",2)\n",
    "np.set_printoptions(precision=2, suppress=True)\n",
    "pd.options.display.float_format = '{:,.2f}'.format"
   ]
  },
  {
   "cell_type": "code",
   "execution_count": 9,
   "metadata": {},
   "outputs": [],
   "source": [
    "from darts import TimeSeries, concatenate"
   ]
  },
  {
   "cell_type": "code",
   "execution_count": 10,
   "metadata": {},
   "outputs": [
    {
     "ename": "OSError",
     "evalue": "dlopen(/Users/ryanjang123/opt/anaconda3/lib/python3.9/site-packages/lightgbm/lib_lightgbm.so, 0x0006): Library not loaded: /usr/local/opt/libomp/lib/libomp.dylib\n  Referenced from: /Users/ryanjang123/opt/anaconda3/lib/python3.9/site-packages/lightgbm/lib_lightgbm.so\n  Reason: tried: '/usr/local/opt/libomp/lib/libomp.dylib' (no such file), '/usr/local/lib/libomp.dylib' (no such file), '/usr/lib/libomp.dylib' (no such file)",
     "output_type": "error",
     "traceback": [
      "\u001b[0;31m---------------------------------------------------------------------------\u001b[0m",
      "\u001b[0;31mOSError\u001b[0m                                   Traceback (most recent call last)",
      "\u001b[1;32m/Users/ryanjang123/kaggle_forecasting/model/NBeats_alpha.ipynb Cell 4\u001b[0m in \u001b[0;36m<cell line: 1>\u001b[0;34m()\u001b[0m\n\u001b[0;32m----> <a href='vscode-notebook-cell:/Users/ryanjang123/kaggle_forecasting/model/NBeats_alpha.ipynb#W4sZmlsZQ%3D%3D?line=0'>1</a>\u001b[0m \u001b[39mfrom\u001b[39;00m \u001b[39mdarts\u001b[39;00m\u001b[39m.\u001b[39;00m\u001b[39mmodels\u001b[39;00m \u001b[39mimport\u001b[39;00m NBEATSModel\n",
      "File \u001b[0;32m~/opt/anaconda3/lib/python3.9/site-packages/darts/models/__init__.py:45\u001b[0m, in \u001b[0;36m<module>\u001b[0;34m\u001b[0m\n\u001b[1;32m     38\u001b[0m     logger\u001b[39m.\u001b[39mwarning(\n\u001b[1;32m     39\u001b[0m         \u001b[39m\"\u001b[39m\u001b[39mSupport for Torch based models not available. \u001b[39m\u001b[39m\"\u001b[39m\n\u001b[1;32m     40\u001b[0m         \u001b[39m'\u001b[39m\u001b[39mTo enable them, install \u001b[39m\u001b[39m\"\u001b[39m\u001b[39mdarts\u001b[39m\u001b[39m\"\u001b[39m\u001b[39m, \u001b[39m\u001b[39m\"\u001b[39m\u001b[39mu8darts[torch]\u001b[39m\u001b[39m\"\u001b[39m\u001b[39m or \u001b[39m\u001b[39m\"\u001b[39m\u001b[39mu8darts[all]\u001b[39m\u001b[39m\"\u001b[39m\u001b[39m (with pip); \u001b[39m\u001b[39m'\u001b[39m\n\u001b[1;32m     41\u001b[0m         \u001b[39m'\u001b[39m\u001b[39mor \u001b[39m\u001b[39m\"\u001b[39m\u001b[39mu8darts-torch\u001b[39m\u001b[39m\"\u001b[39m\u001b[39m or \u001b[39m\u001b[39m\"\u001b[39m\u001b[39mu8darts-all\u001b[39m\u001b[39m\"\u001b[39m\u001b[39m (with conda).\u001b[39m\u001b[39m'\u001b[39m\n\u001b[1;32m     42\u001b[0m     )\n\u001b[1;32m     44\u001b[0m \u001b[39mtry\u001b[39;00m:\n\u001b[0;32m---> 45\u001b[0m     \u001b[39mfrom\u001b[39;00m \u001b[39mdarts\u001b[39;00m\u001b[39m.\u001b[39;00m\u001b[39mmodels\u001b[39;00m\u001b[39m.\u001b[39;00m\u001b[39mforecasting\u001b[39;00m\u001b[39m.\u001b[39;00m\u001b[39mlgbm\u001b[39;00m \u001b[39mimport\u001b[39;00m LightGBMModel\n\u001b[1;32m     46\u001b[0m \u001b[39mexcept\u001b[39;00m \u001b[39mModuleNotFoundError\u001b[39;00m:\n\u001b[1;32m     47\u001b[0m     logger\u001b[39m.\u001b[39mwarning(\n\u001b[1;32m     48\u001b[0m         \u001b[39m\"\u001b[39m\u001b[39mSupport for LightGBM not available. \u001b[39m\u001b[39m\"\u001b[39m\n\u001b[1;32m     49\u001b[0m         \u001b[39m\"\u001b[39m\u001b[39mTo enable LightGBM support in Darts, follow the detailed \u001b[39m\u001b[39m\"\u001b[39m\n\u001b[1;32m     50\u001b[0m         \u001b[39m\"\u001b[39m\u001b[39minstall instructions for LightGBM in the README: \u001b[39m\u001b[39m\"\u001b[39m\n\u001b[1;32m     51\u001b[0m         \u001b[39m\"\u001b[39m\u001b[39mhttps://github.com/unit8co/darts/blob/master/INSTALL.md\u001b[39m\u001b[39m\"\u001b[39m\n\u001b[1;32m     52\u001b[0m     )\n",
      "File \u001b[0;32m~/opt/anaconda3/lib/python3.9/site-packages/darts/models/forecasting/lgbm.py:15\u001b[0m, in \u001b[0;36m<module>\u001b[0;34m\u001b[0m\n\u001b[1;32m      1\u001b[0m \u001b[39m\"\"\"\u001b[39;00m\n\u001b[1;32m      2\u001b[0m \u001b[39mLightGBM Model\u001b[39;00m\n\u001b[1;32m      3\u001b[0m \u001b[39m--------------\u001b[39;00m\n\u001b[0;32m   (...)\u001b[0m\n\u001b[1;32m     10\u001b[0m \u001b[39mhttps://github.com/unit8co/darts/blob/master/INSTALL.md\u001b[39;00m\n\u001b[1;32m     11\u001b[0m \u001b[39m\"\"\"\u001b[39;00m\n\u001b[1;32m     13\u001b[0m \u001b[39mfrom\u001b[39;00m \u001b[39mtyping\u001b[39;00m \u001b[39mimport\u001b[39;00m List, Optional, Sequence, Tuple, Union\n\u001b[0;32m---> 15\u001b[0m \u001b[39mimport\u001b[39;00m \u001b[39mlightgbm\u001b[39;00m \u001b[39mas\u001b[39;00m \u001b[39mlgb\u001b[39;00m\n\u001b[1;32m     16\u001b[0m \u001b[39mimport\u001b[39;00m \u001b[39mnumpy\u001b[39;00m \u001b[39mas\u001b[39;00m \u001b[39mnp\u001b[39;00m\n\u001b[1;32m     18\u001b[0m \u001b[39mfrom\u001b[39;00m \u001b[39mdarts\u001b[39;00m\u001b[39m.\u001b[39;00m\u001b[39mlogging\u001b[39;00m \u001b[39mimport\u001b[39;00m get_logger\n",
      "File \u001b[0;32m~/opt/anaconda3/lib/python3.9/site-packages/lightgbm/__init__.py:8\u001b[0m, in \u001b[0;36m<module>\u001b[0;34m\u001b[0m\n\u001b[1;32m      2\u001b[0m \u001b[39m\"\"\"LightGBM, Light Gradient Boosting Machine.\u001b[39;00m\n\u001b[1;32m      3\u001b[0m \n\u001b[1;32m      4\u001b[0m \u001b[39mContributors: https://github.com/microsoft/LightGBM/graphs/contributors.\u001b[39;00m\n\u001b[1;32m      5\u001b[0m \u001b[39m\"\"\"\u001b[39;00m\n\u001b[1;32m      6\u001b[0m \u001b[39mfrom\u001b[39;00m \u001b[39mpathlib\u001b[39;00m \u001b[39mimport\u001b[39;00m Path\n\u001b[0;32m----> 8\u001b[0m \u001b[39mfrom\u001b[39;00m \u001b[39m.\u001b[39;00m\u001b[39mbasic\u001b[39;00m \u001b[39mimport\u001b[39;00m Booster, Dataset, Sequence, register_logger\n\u001b[1;32m      9\u001b[0m \u001b[39mfrom\u001b[39;00m \u001b[39m.\u001b[39;00m\u001b[39mcallback\u001b[39;00m \u001b[39mimport\u001b[39;00m early_stopping, log_evaluation, print_evaluation, record_evaluation, reset_parameter\n\u001b[1;32m     10\u001b[0m \u001b[39mfrom\u001b[39;00m \u001b[39m.\u001b[39;00m\u001b[39mengine\u001b[39;00m \u001b[39mimport\u001b[39;00m CVBooster, cv, train\n",
      "File \u001b[0;32m~/opt/anaconda3/lib/python3.9/site-packages/lightgbm/basic.py:110\u001b[0m, in \u001b[0;36m<module>\u001b[0;34m\u001b[0m\n\u001b[1;32m    106\u001b[0m         \u001b[39mraise\u001b[39;00m LightGBMError(lib\u001b[39m.\u001b[39mLGBM_GetLastError()\u001b[39m.\u001b[39mdecode(\u001b[39m'\u001b[39m\u001b[39mutf-8\u001b[39m\u001b[39m'\u001b[39m))\n\u001b[1;32m    107\u001b[0m     \u001b[39mreturn\u001b[39;00m lib\n\u001b[0;32m--> 110\u001b[0m _LIB \u001b[39m=\u001b[39m _load_lib()\n\u001b[1;32m    113\u001b[0m NUMERIC_TYPES \u001b[39m=\u001b[39m (\u001b[39mint\u001b[39m, \u001b[39mfloat\u001b[39m, \u001b[39mbool\u001b[39m)\n\u001b[1;32m    116\u001b[0m \u001b[39mdef\u001b[39;00m \u001b[39m_safe_call\u001b[39m(ret: \u001b[39mint\u001b[39m) \u001b[39m-\u001b[39m\u001b[39m>\u001b[39m \u001b[39mNone\u001b[39;00m:\n",
      "File \u001b[0;32m~/opt/anaconda3/lib/python3.9/site-packages/lightgbm/basic.py:101\u001b[0m, in \u001b[0;36m_load_lib\u001b[0;34m()\u001b[0m\n\u001b[1;32m     99\u001b[0m \u001b[39mif\u001b[39;00m \u001b[39mlen\u001b[39m(lib_path) \u001b[39m==\u001b[39m \u001b[39m0\u001b[39m:\n\u001b[1;32m    100\u001b[0m     \u001b[39mreturn\u001b[39;00m \u001b[39mNone\u001b[39;00m\n\u001b[0;32m--> 101\u001b[0m lib \u001b[39m=\u001b[39m ctypes\u001b[39m.\u001b[39;49mcdll\u001b[39m.\u001b[39;49mLoadLibrary(lib_path[\u001b[39m0\u001b[39;49m])\n\u001b[1;32m    102\u001b[0m lib\u001b[39m.\u001b[39mLGBM_GetLastError\u001b[39m.\u001b[39mrestype \u001b[39m=\u001b[39m ctypes\u001b[39m.\u001b[39mc_char_p\n\u001b[1;32m    103\u001b[0m callback \u001b[39m=\u001b[39m ctypes\u001b[39m.\u001b[39mCFUNCTYPE(\u001b[39mNone\u001b[39;00m, ctypes\u001b[39m.\u001b[39mc_char_p)\n",
      "File \u001b[0;32m~/opt/anaconda3/lib/python3.9/ctypes/__init__.py:460\u001b[0m, in \u001b[0;36mLibraryLoader.LoadLibrary\u001b[0;34m(self, name)\u001b[0m\n\u001b[1;32m    459\u001b[0m \u001b[39mdef\u001b[39;00m \u001b[39mLoadLibrary\u001b[39m(\u001b[39mself\u001b[39m, name):\n\u001b[0;32m--> 460\u001b[0m     \u001b[39mreturn\u001b[39;00m \u001b[39mself\u001b[39;49m\u001b[39m.\u001b[39;49m_dlltype(name)\n",
      "File \u001b[0;32m~/opt/anaconda3/lib/python3.9/ctypes/__init__.py:382\u001b[0m, in \u001b[0;36mCDLL.__init__\u001b[0;34m(self, name, mode, handle, use_errno, use_last_error, winmode)\u001b[0m\n\u001b[1;32m    379\u001b[0m \u001b[39mself\u001b[39m\u001b[39m.\u001b[39m_FuncPtr \u001b[39m=\u001b[39m _FuncPtr\n\u001b[1;32m    381\u001b[0m \u001b[39mif\u001b[39;00m handle \u001b[39mis\u001b[39;00m \u001b[39mNone\u001b[39;00m:\n\u001b[0;32m--> 382\u001b[0m     \u001b[39mself\u001b[39m\u001b[39m.\u001b[39m_handle \u001b[39m=\u001b[39m _dlopen(\u001b[39mself\u001b[39;49m\u001b[39m.\u001b[39;49m_name, mode)\n\u001b[1;32m    383\u001b[0m \u001b[39melse\u001b[39;00m:\n\u001b[1;32m    384\u001b[0m     \u001b[39mself\u001b[39m\u001b[39m.\u001b[39m_handle \u001b[39m=\u001b[39m handle\n",
      "\u001b[0;31mOSError\u001b[0m: dlopen(/Users/ryanjang123/opt/anaconda3/lib/python3.9/site-packages/lightgbm/lib_lightgbm.so, 0x0006): Library not loaded: /usr/local/opt/libomp/lib/libomp.dylib\n  Referenced from: /Users/ryanjang123/opt/anaconda3/lib/python3.9/site-packages/lightgbm/lib_lightgbm.so\n  Reason: tried: '/usr/local/opt/libomp/lib/libomp.dylib' (no such file), '/usr/local/lib/libomp.dylib' (no such file), '/usr/lib/libomp.dylib' (no such file)"
     ]
    }
   ],
   "source": [
    "from darts.models import NBEATSModel"
   ]
  },
  {
   "cell_type": "code",
   "execution_count": null,
   "metadata": {},
   "outputs": [],
   "source": []
  }
 ],
 "metadata": {
  "kernelspec": {
   "display_name": "Python 3 (ipykernel)",
   "language": "python",
   "name": "python3"
  },
  "language_info": {
   "codemirror_mode": {
    "name": "ipython",
    "version": 3
   },
   "file_extension": ".py",
   "mimetype": "text/x-python",
   "name": "python",
   "nbconvert_exporter": "python",
   "pygments_lexer": "ipython3",
   "version": "3.9.7"
  },
  "vscode": {
   "interpreter": {
    "hash": "7bccb03500e1e81b99688a4a62fe94655079eea88c74749866480b5d2af77b40"
   }
  }
 },
 "nbformat": 4,
 "nbformat_minor": 2
}
